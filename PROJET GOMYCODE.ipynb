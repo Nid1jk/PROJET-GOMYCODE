{
 "cells": [
  {
   "cell_type": "code",
   "execution_count": null,
   "id": "7161ee5c",
   "metadata": {},
   "outputs": [
    {
     "name": "stdout",
     "output_type": "stream",
     "text": [
      "Welcome to my quiz game player , will you be able to get a full score ?\n"
     ]
    }
   ],
   "source": [
    "print(\"Welcome to my quiz game player , will you be able to get a full score ?\")\n",
    "playw_me=input('Are you ready ?')\n",
    "if playw_me !='yes':\n",
    "    quit()\n",
    "else:\n",
    "    print(\"let's get started\")\n",
    "QUESTIONS = {\n",
    "    \"The shortest war recorded in history between two sovereign powers was between ?\": [\n",
    "        \"UK and France\", \"Denmark and UK\", \"UK and Zanzibar\", \"Italy and France\"\n",
    "    ],\n",
    "    \"Which of the following statements are correct regarding Pyramids built by Egyptians?\": [\n",
    "        \"Pyramids were royal tombs with four triangle-shaped sides that meet in a point on top.\",\n",
    "        \"Pyramids acted as warehouses where surplus food is stored\",\n",
    "        \"Pyramids were temples where the people are allowed to come and pray.\",\n",
    "        \"Pyramids were stone tombs with four rectangle-shaped sides that join a limestone roof.\"\n",
    "    ],\n",
    "    \"Mohammed married which of the following at the age of 25?\": [\n",
    "        \"Khadija\", \"Summaya\", \"Haleema\", \"Bushra\"\n",
    "    ],\n",
    "    \"The rise of Italy and Germany as nation-states came in which of the following year?\": [\n",
    "        \"1871\",\n",
    "        \"1872\",\n",
    "        \"1869\",\n",
    "        \"1870\",\n",
    "    ],\n",
    "}\n",
    "num_correct = 0\n",
    "for question, alternatives in QUESTIONS.items():\n",
    "    correct_answer = alternatives[0]\n",
    "    sorted_alternatives = sorted(alternatives)\n",
    "    for label, alternative in enumerate(sorted_alternatives):\n",
    "        print(f\"  {label}) {alternative}\")\n",
    "    \n",
    "    answer_label = int(input(f\"{question}? \"))\n",
    "    answer = sorted_alternatives[answer_label]\n",
    "    if answer == correct_answer:\n",
    "        num_correct += 1\n",
    "        print(\"Correct!\")\n",
    "    else:\n",
    "        print(f\"The answer is {correct_answer!r}, not {answer!r}\")\n",
    "print(f\"\\nYou got {num_correct} correct out of 4 questions ,nice try\")"
   ]
  },
  {
   "cell_type": "code",
   "execution_count": null,
   "id": "cf45ee9e",
   "metadata": {},
   "outputs": [],
   "source": []
  }
 ],
 "metadata": {
  "kernelspec": {
   "display_name": "Python 3 (ipykernel)",
   "language": "python",
   "name": "python3"
  },
  "language_info": {
   "codemirror_mode": {
    "name": "ipython",
    "version": 3
   },
   "file_extension": ".py",
   "mimetype": "text/x-python",
   "name": "python",
   "nbconvert_exporter": "python",
   "pygments_lexer": "ipython3",
   "version": "3.9.6"
  }
 },
 "nbformat": 4,
 "nbformat_minor": 5
}
